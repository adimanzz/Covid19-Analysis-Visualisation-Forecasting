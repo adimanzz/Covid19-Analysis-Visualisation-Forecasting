{
 "cells": [
  {
   "cell_type": "markdown",
   "metadata": {},
   "source": [
    "# Covid-19\n",
    "\n",
    "Three months ago, reports surfaced out of China that a cluster of pneumonia cases in the central city of Wuhan may be due to a new type of coronavirus.\n",
    "\n",
    "The World Health Organization said at the time it was still assessing the extent of the outbreak, but noted there were no reports of novel coronavirus outside Wuhan.\n",
    "\n",
    "Since then, the situation has changed drastically.\n",
    "\n",
    "More than 1.6 million people have been infected across the globe, more than 100,000 have died and lockdowns have been ordered in numerous counties. The majority of the states in the U.S. have also adopted some sort of shelter-in-place order.\n",
    "\n",
    "The whole world has come to a stand still."
   ]
  },
  {
   "cell_type": "markdown",
   "metadata": {},
   "source": [
    "## Problem Statement:\n",
    "- Find the worldwide trends\n",
    "- Country wise rate of increase in cases\n",
    "- Highest recovery rate country wise\n",
    "- Highest death rate country wise\n",
    "- Predicting trend"
   ]
  },
  {
   "cell_type": "markdown",
   "metadata": {},
   "source": [
    "### I'll start by getting a rough look at the data to get a sort of overview"
   ]
  },
  {
   "cell_type": "code",
   "execution_count": 51,
   "metadata": {},
   "outputs": [],
   "source": [
    "import pandas as pd\n",
    "pd.options.display.max_columns = 500\n",
    "pd.options.display.max_rows = 500\n",
    "import numpy as np\n",
    "import matplotlib.pyplot as plt\n",
    "import seaborn as sns"
   ]
  },
  {
   "cell_type": "code",
   "execution_count": 2,
   "metadata": {},
   "outputs": [],
   "source": [
    "dataset = pd.read_csv('covid_19_data.csv')"
   ]
  },
  {
   "cell_type": "code",
   "execution_count": 3,
   "metadata": {},
   "outputs": [
    {
     "data": {
      "text/plain": [
       "(12889, 8)"
      ]
     },
     "execution_count": 3,
     "metadata": {},
     "output_type": "execute_result"
    }
   ],
   "source": [
    "dataset.shape"
   ]
  },
  {
   "cell_type": "code",
   "execution_count": 4,
   "metadata": {},
   "outputs": [
    {
     "data": {
      "text/plain": [
       "SNo                  int64\n",
       "ObservationDate     object\n",
       "Province/State      object\n",
       "Country/Region      object\n",
       "Last Update         object\n",
       "Confirmed          float64\n",
       "Deaths             float64\n",
       "Recovered          float64\n",
       "dtype: object"
      ]
     },
     "execution_count": 4,
     "metadata": {},
     "output_type": "execute_result"
    }
   ],
   "source": [
    "dataset.dtypes"
   ]
  },
  {
   "cell_type": "code",
   "execution_count": 5,
   "metadata": {},
   "outputs": [
    {
     "data": {
      "text/plain": [
       "SNo                   0\n",
       "ObservationDate       0\n",
       "Province/State     6202\n",
       "Country/Region        0\n",
       "Last Update           0\n",
       "Confirmed             0\n",
       "Deaths                0\n",
       "Recovered             0\n",
       "dtype: int64"
      ]
     },
     "execution_count": 5,
     "metadata": {},
     "output_type": "execute_result"
    }
   ],
   "source": [
    "dataset.isnull().sum()"
   ]
  },
  {
   "cell_type": "markdown",
   "metadata": {},
   "source": [
    "#### Even though 50% of the data is missing in 'Province/State' I will not be dropping it as you'll see below it can still be used for some analysis"
   ]
  },
  {
   "cell_type": "code",
   "execution_count": 6,
   "metadata": {
    "scrolled": true
   },
   "outputs": [
    {
     "data": {
      "text/html": [
       "<div>\n",
       "<style scoped>\n",
       "    .dataframe tbody tr th:only-of-type {\n",
       "        vertical-align: middle;\n",
       "    }\n",
       "\n",
       "    .dataframe tbody tr th {\n",
       "        vertical-align: top;\n",
       "    }\n",
       "\n",
       "    .dataframe thead th {\n",
       "        text-align: right;\n",
       "    }\n",
       "</style>\n",
       "<table border=\"1\" class=\"dataframe\">\n",
       "  <thead>\n",
       "    <tr style=\"text-align: right;\">\n",
       "      <th></th>\n",
       "      <th>SNo</th>\n",
       "      <th>ObservationDate</th>\n",
       "      <th>Province/State</th>\n",
       "      <th>Country/Region</th>\n",
       "      <th>Last Update</th>\n",
       "      <th>Confirmed</th>\n",
       "      <th>Deaths</th>\n",
       "      <th>Recovered</th>\n",
       "    </tr>\n",
       "  </thead>\n",
       "  <tbody>\n",
       "    <tr>\n",
       "      <th>0</th>\n",
       "      <td>1</td>\n",
       "      <td>01/22/2020</td>\n",
       "      <td>Anhui</td>\n",
       "      <td>Mainland China</td>\n",
       "      <td>1/22/2020 17:00</td>\n",
       "      <td>1.0</td>\n",
       "      <td>0.0</td>\n",
       "      <td>0.0</td>\n",
       "    </tr>\n",
       "    <tr>\n",
       "      <th>1</th>\n",
       "      <td>2</td>\n",
       "      <td>01/22/2020</td>\n",
       "      <td>Beijing</td>\n",
       "      <td>Mainland China</td>\n",
       "      <td>1/22/2020 17:00</td>\n",
       "      <td>14.0</td>\n",
       "      <td>0.0</td>\n",
       "      <td>0.0</td>\n",
       "    </tr>\n",
       "    <tr>\n",
       "      <th>2</th>\n",
       "      <td>3</td>\n",
       "      <td>01/22/2020</td>\n",
       "      <td>Chongqing</td>\n",
       "      <td>Mainland China</td>\n",
       "      <td>1/22/2020 17:00</td>\n",
       "      <td>6.0</td>\n",
       "      <td>0.0</td>\n",
       "      <td>0.0</td>\n",
       "    </tr>\n",
       "    <tr>\n",
       "      <th>3</th>\n",
       "      <td>4</td>\n",
       "      <td>01/22/2020</td>\n",
       "      <td>Fujian</td>\n",
       "      <td>Mainland China</td>\n",
       "      <td>1/22/2020 17:00</td>\n",
       "      <td>1.0</td>\n",
       "      <td>0.0</td>\n",
       "      <td>0.0</td>\n",
       "    </tr>\n",
       "    <tr>\n",
       "      <th>4</th>\n",
       "      <td>5</td>\n",
       "      <td>01/22/2020</td>\n",
       "      <td>Gansu</td>\n",
       "      <td>Mainland China</td>\n",
       "      <td>1/22/2020 17:00</td>\n",
       "      <td>0.0</td>\n",
       "      <td>0.0</td>\n",
       "      <td>0.0</td>\n",
       "    </tr>\n",
       "    <tr>\n",
       "      <th>5</th>\n",
       "      <td>6</td>\n",
       "      <td>01/22/2020</td>\n",
       "      <td>Guangdong</td>\n",
       "      <td>Mainland China</td>\n",
       "      <td>1/22/2020 17:00</td>\n",
       "      <td>26.0</td>\n",
       "      <td>0.0</td>\n",
       "      <td>0.0</td>\n",
       "    </tr>\n",
       "    <tr>\n",
       "      <th>6</th>\n",
       "      <td>7</td>\n",
       "      <td>01/22/2020</td>\n",
       "      <td>Guangxi</td>\n",
       "      <td>Mainland China</td>\n",
       "      <td>1/22/2020 17:00</td>\n",
       "      <td>2.0</td>\n",
       "      <td>0.0</td>\n",
       "      <td>0.0</td>\n",
       "    </tr>\n",
       "    <tr>\n",
       "      <th>7</th>\n",
       "      <td>8</td>\n",
       "      <td>01/22/2020</td>\n",
       "      <td>Guizhou</td>\n",
       "      <td>Mainland China</td>\n",
       "      <td>1/22/2020 17:00</td>\n",
       "      <td>1.0</td>\n",
       "      <td>0.0</td>\n",
       "      <td>0.0</td>\n",
       "    </tr>\n",
       "    <tr>\n",
       "      <th>8</th>\n",
       "      <td>9</td>\n",
       "      <td>01/22/2020</td>\n",
       "      <td>Hainan</td>\n",
       "      <td>Mainland China</td>\n",
       "      <td>1/22/2020 17:00</td>\n",
       "      <td>4.0</td>\n",
       "      <td>0.0</td>\n",
       "      <td>0.0</td>\n",
       "    </tr>\n",
       "    <tr>\n",
       "      <th>9</th>\n",
       "      <td>10</td>\n",
       "      <td>01/22/2020</td>\n",
       "      <td>Hebei</td>\n",
       "      <td>Mainland China</td>\n",
       "      <td>1/22/2020 17:00</td>\n",
       "      <td>1.0</td>\n",
       "      <td>0.0</td>\n",
       "      <td>0.0</td>\n",
       "    </tr>\n",
       "  </tbody>\n",
       "</table>\n",
       "</div>"
      ],
      "text/plain": [
       "   SNo ObservationDate Province/State  Country/Region      Last Update  \\\n",
       "0    1      01/22/2020          Anhui  Mainland China  1/22/2020 17:00   \n",
       "1    2      01/22/2020        Beijing  Mainland China  1/22/2020 17:00   \n",
       "2    3      01/22/2020      Chongqing  Mainland China  1/22/2020 17:00   \n",
       "3    4      01/22/2020         Fujian  Mainland China  1/22/2020 17:00   \n",
       "4    5      01/22/2020          Gansu  Mainland China  1/22/2020 17:00   \n",
       "5    6      01/22/2020      Guangdong  Mainland China  1/22/2020 17:00   \n",
       "6    7      01/22/2020        Guangxi  Mainland China  1/22/2020 17:00   \n",
       "7    8      01/22/2020        Guizhou  Mainland China  1/22/2020 17:00   \n",
       "8    9      01/22/2020         Hainan  Mainland China  1/22/2020 17:00   \n",
       "9   10      01/22/2020          Hebei  Mainland China  1/22/2020 17:00   \n",
       "\n",
       "   Confirmed  Deaths  Recovered  \n",
       "0        1.0     0.0        0.0  \n",
       "1       14.0     0.0        0.0  \n",
       "2        6.0     0.0        0.0  \n",
       "3        1.0     0.0        0.0  \n",
       "4        0.0     0.0        0.0  \n",
       "5       26.0     0.0        0.0  \n",
       "6        2.0     0.0        0.0  \n",
       "7        1.0     0.0        0.0  \n",
       "8        4.0     0.0        0.0  \n",
       "9        1.0     0.0        0.0  "
      ]
     },
     "execution_count": 6,
     "metadata": {},
     "output_type": "execute_result"
    }
   ],
   "source": [
    "dataset.head(10)"
   ]
  },
  {
   "cell_type": "markdown",
   "metadata": {},
   "source": [
    "First convert the 'ObservationDate' column to datetime"
   ]
  },
  {
   "cell_type": "code",
   "execution_count": 7,
   "metadata": {},
   "outputs": [],
   "source": [
    "dataset['ObservationDate'] = pd.to_datetime(dataset['ObservationDate'])\n",
    "dataset['Last Update'] = pd.to_datetime(dataset['Last Update'])"
   ]
  },
  {
   "cell_type": "markdown",
   "metadata": {},
   "source": [
    "# Exploratory Data Analysis"
   ]
  },
  {
   "cell_type": "code",
   "execution_count": 222,
   "metadata": {},
   "outputs": [
    {
     "data": {
      "image/png": "[encoded data removed]",
      "text/plain": [
       "<Figure size 1080x360 with 1 Axes>"
      ]
     },
     "metadata": {
      "needs_background": "light"
     },
     "output_type": "display_data"
    }
   ],
   "source": [
    "months = ['Jan','Feb','March','April(Till first week)']\n",
    "countries_affected = []\n",
    "for x in range(1,5):\n",
    "    countries_affected.append(dataset[dataset['ObservationDate'].dt.month == x]['Country/Region'].nunique())\n",
    "plt.figure(figsize = (15,5))    \n",
    "plt.bar(months,countries_affected)    \n",
    "plt.xlabel('Months')\n",
    "plt.ylabel(\"Number of Countries\")\n",
    "plt.title('Number of Countries Getting Affected')\n",
    "plt.show()"
   ]
  },
  {
   "cell_type": "markdown",
   "metadata": {},
   "source": [
    "# Top Ten Most Affected Countries"
   ]
  },
  {
   "cell_type": "code",
   "execution_count": 13,
   "metadata": {},
   "outputs": [],
   "source": [
    "first_month = dataset[dataset['ObservationDate'] == '01/31/2020'].groupby(['Country/Region'])['Confirmed'].sum().sort_values(ascending = False).head(10)"
   ]
  },
  {
   "cell_type": "code",
   "execution_count": 14,
   "metadata": {},
   "outputs": [],
   "source": [
    "second_month = dataset[dataset['ObservationDate'] == '02/29/2020'].groupby(['Country/Region'])['Confirmed'].sum().sort_values(ascending = False).head(10)"
   ]
  },
  {
   "cell_type": "code",
   "execution_count": 15,
   "metadata": {},
   "outputs": [],
   "source": [
    "third_month = dataset[dataset['ObservationDate'] == '03/31/2020'].groupby(['Country/Region'])['Confirmed'].sum().sort_values(ascending = False).head(10)"
   ]
  },
  {
   "cell_type": "code",
   "execution_count": 16,
   "metadata": {},
   "outputs": [],
   "source": [
    "fourth_month = dataset[dataset['ObservationDate'] == '04/07/2020'].groupby(['Country/Region'])['Confirmed'].sum().sort_values(ascending = False).head(10)"
   ]
  },
  {
   "cell_type": "code",
   "execution_count": 17,
   "metadata": {},
   "outputs": [
    {
     "data": {
      "image/png": "[encoded data removed]",
      "text/plain": [
       "<Figure size 1080x576 with 4 Axes>"
      ]
     },
     "metadata": {
      "needs_background": "light"
     },
     "output_type": "display_data"
    }
   ],
   "source": [
    "fig, ax = plt.subplots(nrows = 2, ncols = 2, figsize = (15,8))\n",
    "fig.tight_layout(pad=6.0)\n",
    "\n",
    "ax[0,0].bar(first_month.index.tolist(),first_month.tolist())\n",
    "ax[0,0].set_xticklabels(first_month.index.tolist(),rotation = 45, minor=False)\n",
    "ax[0,0].title.set_text('January')\n",
    "\n",
    "ax[0,1].bar(second_month.index.tolist(),second_month.tolist(), color = 'g')\n",
    "ax[0,1].set_xticklabels(second_month.index.tolist(),rotation = 45, minor=False)\n",
    "ax[0,1].title.set_text('February')\n",
    "\n",
    "ax[1,0].bar(third_month.index.tolist(),third_month.tolist(), color = 'c')\n",
    "ax[1,0].set_xticklabels(third_month.index.tolist(),rotation = 45, minor=False)\n",
    "ax[1,0].title.set_text('March')\n",
    "\n",
    "ax[1,1].bar(fourth_month.index.tolist(),fourth_month.tolist(), color = 'r')\n",
    "ax[1,1].set_xticklabels(fourth_month.index.tolist(),rotation = 45, minor=False)\n",
    "ax[1,1].title.set_text('April (Till first week)')\n",
    "\n",
    "plt.show()\n"
   ]
  },
  {
   "cell_type": "markdown",
   "metadata": {},
   "source": [
    "### <font color = 'green'> The top ten most affected countries right now are US, Spain, Italy, France, Germany, China, Iran, UK, Turkey and Switzerland </font>"
   ]
  },
  {
   "cell_type": "markdown",
   "metadata": {},
   "source": [
    "# Top 10 Countries with highest rate of confirmed cases (From above countries)"
   ]
  },
  {
   "cell_type": "code",
   "execution_count": 20,
   "metadata": {},
   "outputs": [],
   "source": [
    "top_countries = fourth_month.index.tolist()\n",
    "increase_rate = {}\n",
    "for x in top_countries:\n",
    "        increase_rate.update({x:((fourth_month_total[x] - third_month_total[x] )/ third_month_total[x]) * 100})\n",
    "increase_rate = pd.DataFrame({'Countries':list(increase_rate.keys()), 'Increase Rate': list(increase_rate.values())})\n",
    "increase_rate = increase_rate.sort_values(by = 'Increase Rate',ascending = False).head(10)"
   ]
  },
  {
   "cell_type": "code",
   "execution_count": 21,
   "metadata": {},
   "outputs": [
    {
     "data": {
      "text/html": [
       "<div>\n",
       "<style scoped>\n",
       "    .dataframe tbody tr th:only-of-type {\n",
       "        vertical-align: middle;\n",
       "    }\n",
       "\n",
       "    .dataframe tbody tr th {\n",
       "        vertical-align: top;\n",
       "    }\n",
       "\n",
       "    .dataframe thead th {\n",
       "        text-align: right;\n",
       "    }\n",
       "</style>\n",
       "<table border=\"1\" class=\"dataframe\">\n",
       "  <thead>\n",
       "    <tr style=\"text-align: right;\">\n",
       "      <th></th>\n",
       "      <th>Countries</th>\n",
       "      <th>Increase Rate</th>\n",
       "    </tr>\n",
       "  </thead>\n",
       "  <tbody>\n",
       "    <tr>\n",
       "      <th>8</th>\n",
       "      <td>Turkey</td>\n",
       "      <td>152.080408</td>\n",
       "    </tr>\n",
       "    <tr>\n",
       "      <th>7</th>\n",
       "      <td>UK</td>\n",
       "      <td>119.571445</td>\n",
       "    </tr>\n",
       "    <tr>\n",
       "      <th>0</th>\n",
       "      <td>US</td>\n",
       "      <td>110.564271</td>\n",
       "    </tr>\n",
       "    <tr>\n",
       "      <th>3</th>\n",
       "      <td>France</td>\n",
       "      <td>108.349897</td>\n",
       "    </tr>\n",
       "    <tr>\n",
       "      <th>4</th>\n",
       "      <td>Germany</td>\n",
       "      <td>49.931762</td>\n",
       "    </tr>\n",
       "    <tr>\n",
       "      <th>1</th>\n",
       "      <td>Spain</td>\n",
       "      <td>47.974938</td>\n",
       "    </tr>\n",
       "    <tr>\n",
       "      <th>6</th>\n",
       "      <td>Iran</td>\n",
       "      <td>40.318350</td>\n",
       "    </tr>\n",
       "    <tr>\n",
       "      <th>9</th>\n",
       "      <td>Switzerland</td>\n",
       "      <td>34.013851</td>\n",
       "    </tr>\n",
       "    <tr>\n",
       "      <th>2</th>\n",
       "      <td>Italy</td>\n",
       "      <td>28.162810</td>\n",
       "    </tr>\n",
       "    <tr>\n",
       "      <th>5</th>\n",
       "      <td>Mainland China</td>\n",
       "      <td>0.263726</td>\n",
       "    </tr>\n",
       "  </tbody>\n",
       "</table>\n",
       "</div>"
      ],
      "text/plain": [
       "        Countries  Increase Rate\n",
       "8          Turkey     152.080408\n",
       "7              UK     119.571445\n",
       "0              US     110.564271\n",
       "3          France     108.349897\n",
       "4         Germany      49.931762\n",
       "1           Spain      47.974938\n",
       "6            Iran      40.318350\n",
       "9     Switzerland      34.013851\n",
       "2           Italy      28.162810\n",
       "5  Mainland China       0.263726"
      ]
     },
     "execution_count": 21,
     "metadata": {},
     "output_type": "execute_result"
    }
   ],
   "source": [
    "increase_rate"
   ]
  },
  {
   "cell_type": "code",
   "execution_count": 22,
   "metadata": {},
   "outputs": [
    {
     "data": {
      "image/png": "[encoded data removed]",
      "text/plain": [
       "<Figure size 1080x576 with 1 Axes>"
      ]
     },
     "metadata": {
      "needs_background": "light"
     },
     "output_type": "display_data"
    }
   ],
   "source": [
    "plt.figure(figsize = (15,8))\n",
    "sns.barplot(x = 'Increase Rate', y = 'Countries', data = increase_rate)\n",
    "plt.show()"
   ]
  },
  {
   "cell_type": "markdown",
   "metadata": {},
   "source": [
    "The number of cases in Turkey has increased by 150% from the previous month followed by UK at 120%"
   ]
  },
  {
   "cell_type": "markdown",
   "metadata": {},
   "source": [
    "# Top 10 Countries with the highest rate of increase in cases (Overall)"
   ]
  },
  {
   "cell_type": "code",
   "execution_count": 19,
   "metadata": {},
   "outputs": [],
   "source": [
    "third_month_total = dataset[dataset['ObservationDate'] == '03/31/2020'].groupby(['Country/Region'])['Confirmed'].sum().sort_values(ascending = False)\n",
    "fourth_month_total = dataset[dataset['ObservationDate'] == '04/07/2020'].groupby(['Country/Region'])['Confirmed'].sum().sort_values(ascending = False)"
   ]
  },
  {
   "cell_type": "code",
   "execution_count": 23,
   "metadata": {},
   "outputs": [],
   "source": [
    "countries_overall = dataset['Country/Region'].tolist()\n",
    "increase_rate_overall = {}\n",
    "for x in countries_overall:\n",
    "    if (x not in third_month_total or x not in fourth_month_total):\n",
    "        continue;\n",
    "    else:\n",
    "        increase_rate_overall.update({x:((fourth_month_total[x] - third_month_total[x] )/ third_month_total[x]) * 100})\n",
    "increase_rate_overall = pd.DataFrame({'Countries':list(increase_rate_overall.keys()), 'Increase Rate': list(increase_rate_overall.values())})\n",
    "increase_rate_overall = increase_rate_overall.sort_values(by = 'Increase Rate',ascending = False).head(10)"
   ]
  },
  {
   "cell_type": "code",
   "execution_count": 24,
   "metadata": {},
   "outputs": [
    {
     "data": {
      "text/html": [
       "<div>\n",
       "<style scoped>\n",
       "    .dataframe tbody tr th:only-of-type {\n",
       "        vertical-align: middle;\n",
       "    }\n",
       "\n",
       "    .dataframe tbody tr th {\n",
       "        vertical-align: top;\n",
       "    }\n",
       "\n",
       "    .dataframe thead th {\n",
       "        text-align: right;\n",
       "    }\n",
       "</style>\n",
       "<table border=\"1\" class=\"dataframe\">\n",
       "  <thead>\n",
       "    <tr style=\"text-align: right;\">\n",
       "      <th></th>\n",
       "      <th>Countries</th>\n",
       "      <th>Increase Rate</th>\n",
       "    </tr>\n",
       "  </thead>\n",
       "  <tbody>\n",
       "    <tr>\n",
       "      <th>157</th>\n",
       "      <td>Niger</td>\n",
       "      <td>929.629630</td>\n",
       "    </tr>\n",
       "    <tr>\n",
       "      <th>132</th>\n",
       "      <td>Saint Vincent and the Grenadines</td>\n",
       "      <td>700.000000</td>\n",
       "    </tr>\n",
       "    <tr>\n",
       "      <th>117</th>\n",
       "      <td>Guinea</td>\n",
       "      <td>554.545455</td>\n",
       "    </tr>\n",
       "    <tr>\n",
       "      <th>181</th>\n",
       "      <td>Sierra Leone</td>\n",
       "      <td>500.000000</td>\n",
       "    </tr>\n",
       "    <tr>\n",
       "      <th>55</th>\n",
       "      <td>Belarus</td>\n",
       "      <td>466.447368</td>\n",
       "    </tr>\n",
       "    <tr>\n",
       "      <th>140</th>\n",
       "      <td>Liberia</td>\n",
       "      <td>366.666667</td>\n",
       "    </tr>\n",
       "    <tr>\n",
       "      <th>178</th>\n",
       "      <td>MS Zaandam</td>\n",
       "      <td>350.000000</td>\n",
       "    </tr>\n",
       "    <tr>\n",
       "      <th>173</th>\n",
       "      <td>Guinea-Bissau</td>\n",
       "      <td>312.500000</td>\n",
       "    </tr>\n",
       "    <tr>\n",
       "      <th>25</th>\n",
       "      <td>India</td>\n",
       "      <td>280.171797</td>\n",
       "    </tr>\n",
       "    <tr>\n",
       "      <th>24</th>\n",
       "      <td>United Arab Emirates</td>\n",
       "      <td>255.271084</td>\n",
       "    </tr>\n",
       "  </tbody>\n",
       "</table>\n",
       "</div>"
      ],
      "text/plain": [
       "                            Countries  Increase Rate\n",
       "157                             Niger     929.629630\n",
       "132  Saint Vincent and the Grenadines     700.000000\n",
       "117                            Guinea     554.545455\n",
       "181                      Sierra Leone     500.000000\n",
       "55                            Belarus     466.447368\n",
       "140                           Liberia     366.666667\n",
       "178                        MS Zaandam     350.000000\n",
       "173                     Guinea-Bissau     312.500000\n",
       "25                              India     280.171797\n",
       "24               United Arab Emirates     255.271084"
      ]
     },
     "execution_count": 24,
     "metadata": {},
     "output_type": "execute_result"
    }
   ],
   "source": [
    "increase_rate_overall"
   ]
  },
  {
   "cell_type": "code",
   "execution_count": 217,
   "metadata": {},
   "outputs": [
    {
     "data": {
      "image/png": "[encoded data removed]",
      "text/plain": [
       "<Figure size 1080x576 with 1 Axes>"
      ]
     },
     "metadata": {
      "needs_background": "light"
     },
     "output_type": "display_data"
    }
   ],
   "source": [
    "plt.figure(figsize = (15,8))\n",
    "sns.barplot(x = 'Increase Rate', y = 'Countries', data = increase_rate_overall)\n",
    "plt.title('Top 10 Countries with the highest rate of increase in cases (Overall)')\n",
    "plt.show()"
   ]
  },
  {
   "cell_type": "markdown",
   "metadata": {},
   "source": [
    "### <font color = 'green'> Even though the total number of confirmed cases in these countries isn't that high they are showing a much higher rate of increase in cases as compared to the previous month (March) </font>"
   ]
  },
  {
   "cell_type": "markdown",
   "metadata": {},
   "source": [
    "# Most Affected States in US"
   ]
  },
  {
   "cell_type": "code",
   "execution_count": 26,
   "metadata": {},
   "outputs": [],
   "source": [
    "april = dataset[dataset['ObservationDate'] == '04/07/2020']\n",
    "us_cities_april = april[april['Country/Region'] == 'US'][['Province/State','Confirmed']].sort_values(by = 'Confirmed', ascending = False).head(10)"
   ]
  },
  {
   "cell_type": "code",
   "execution_count": 27,
   "metadata": {},
   "outputs": [
    {
     "data": {
      "image/png": "[encoded data removed]",
      "text/plain": [
       "<Figure size 1080x576 with 1 Axes>"
      ]
     },
     "metadata": {
      "needs_background": "light"
     },
     "output_type": "display_data"
    }
   ],
   "source": [
    "plt.figure(figsize = (15,8))\n",
    "sns.barplot(x = 'Confirmed', y = 'Province/State', data = us_cities_april, color = 'cyan')\n",
    "plt.title('Most Affected States in US')\n",
    "plt.show()"
   ]
  },
  {
   "cell_type": "code",
   "execution_count": 207,
   "metadata": {},
   "outputs": [],
   "source": [
    "us_dataset = dataset[dataset['Country/Region'] == 'US']\n",
    "#Dropping these four days as cases were taken for Counties as opposed to the other days where cases were taken for States\n",
    "us_dataset = us_dataset[(us_dataset['ObservationDate'] != '2020-03-06') & (us_dataset['ObservationDate'] != '2020-03-07') & (us_dataset['ObservationDate'] != '2020-03-08') & (us_dataset['ObservationDate'] != '2020-03-09')]"
   ]
  },
  {
   "cell_type": "code",
   "execution_count": 210,
   "metadata": {},
   "outputs": [],
   "source": [
    "number_of_cities = us_dataset.groupby(['ObservationDate']).size()"
   ]
  },
  {
   "cell_type": "code",
   "execution_count": 215,
   "metadata": {},
   "outputs": [
    {
     "data": {
      "image/png": "[encoded data removed]",
      "text/plain": [
       "<Figure size 1080x576 with 1 Axes>"
      ]
     },
     "metadata": {
      "needs_background": "light"
     },
     "output_type": "display_data"
    }
   ],
   "source": [
    "plt.figure(figsize = (15,8))\n",
    "plt.plot(number_of_cities, color = 'c', marker = 'o')\n",
    "plt.title('Day wise number of cities getting affected (In US)')\n",
    "plt.xlabel('Days')\n",
    "plt.ylabel('Number of Cities')\n",
    "plt.show()"
   ]
  },
  {
   "cell_type": "markdown",
   "metadata": {},
   "source": [
    "# Top Ten Countries with Highest Recovery rate"
   ]
  },
  {
   "cell_type": "code",
   "execution_count": 121,
   "metadata": {},
   "outputs": [],
   "source": [
    "fourth_month_recovery = dataset[dataset['ObservationDate'] == '04/07/2020'].groupby(['Country/Region'])['Recovered'].sum().sort_values(ascending = False)"
   ]
  },
  {
   "cell_type": "code",
   "execution_count": 122,
   "metadata": {},
   "outputs": [],
   "source": [
    "for x in fourth_month_recovery.index.tolist():\n",
    "    ratio = (fourth_month_recovery[x]/fourth_month_total[x]) * 100\n",
    "    fourth_month_recovery[x] = ratio   \n",
    "fourth_month_recovery = fourth_month_recovery.sort_values(ascending = False).head(10)    "
   ]
  },
  {
   "cell_type": "code",
   "execution_count": 218,
   "metadata": {},
   "outputs": [
    {
     "data": {
      "image/png": "[encoded data removed]",
      "text/plain": [
       "<Figure size 720x360 with 1 Axes>"
      ]
     },
     "metadata": {
      "needs_background": "light"
     },
     "output_type": "display_data"
    }
   ],
   "source": [
    "plt.figure(figsize = (10,5))\n",
    "plt.xticks(rotation = 45)\n",
    "plt.xlabel('Countries')\n",
    "plt.ylabel('Percentage of People recovered')\n",
    "plt.title('Top Ten Countries with Highest Recovery rate')\n",
    "plt.bar(fourth_month_recovery.index.tolist(), fourth_month_recovery.tolist(),color = 'g',)\n",
    "plt.show()"
   ]
  },
  {
   "cell_type": "markdown",
   "metadata": {},
   "source": [
    "# Top Ten Countries with Highest Death rate"
   ]
  },
  {
   "cell_type": "code",
   "execution_count": 115,
   "metadata": {},
   "outputs": [],
   "source": [
    "fourth_month_deaths = dataset[dataset['ObservationDate'] == '04/07/2020'].groupby(['Country/Region'])['Deaths'].sum().sort_values(ascending = False)"
   ]
  },
  {
   "cell_type": "code",
   "execution_count": 116,
   "metadata": {},
   "outputs": [],
   "source": [
    "for x in fourth_month_deaths.index.tolist():\n",
    "    ratio = (fourth_month_deaths[x]/fourth_month_total[x]) * 100\n",
    "    fourth_month_deaths[x] = ratio   "
   ]
  },
  {
   "cell_type": "code",
   "execution_count": 117,
   "metadata": {},
   "outputs": [],
   "source": [
    "fourth_month_deaths = fourth_month_deaths.sort_values(ascending= False).head(10)"
   ]
  },
  {
   "cell_type": "code",
   "execution_count": 221,
   "metadata": {
    "scrolled": true
   },
   "outputs": [
    {
     "data": {
      "image/png": "[encoded data removed]",
      "text/plain": [
       "<Figure size 720x360 with 1 Axes>"
      ]
     },
     "metadata": {
      "needs_background": "light"
     },
     "output_type": "display_data"
    }
   ],
   "source": [
    "plt.figure(figsize = (10,5))\n",
    "plt.xticks(rotation = 45)\n",
    "plt.xlabel('Countries')\n",
    "plt.ylabel('Percentage of Deaths')\n",
    "plt.title('Top Ten Countries with Highest Death rate')\n",
    "plt.bar(fourth_month_deaths.index.tolist(), fourth_month_deaths.tolist(),color = 'r',)\n",
    "plt.show()"
   ]
  },
  {
   "cell_type": "markdown",
   "metadata": {},
   "source": [
    "# Covid-19 Analysis of India"
   ]
  },
  {
   "cell_type": "code",
   "execution_count": 135,
   "metadata": {},
   "outputs": [],
   "source": [
    "ind_confirmed = dataset[dataset['Country/Region'] == 'India'].groupby(['ObservationDate'])['Confirmed'].sum().tolist()\n",
    "ind_recovered = dataset[dataset['Country/Region'] == 'India'].groupby(['ObservationDate'])['Recovered'].sum().tolist()\n",
    "ind_deaths = dataset[dataset['Country/Region'] == 'India'].groupby(['ObservationDate'])['Deaths'].sum().tolist()"
   ]
  },
  {
   "cell_type": "code",
   "execution_count": 220,
   "metadata": {},
   "outputs": [
    {
     "data": {
      "image/png": "[encoded data removed]",
      "text/plain": [
       "<Figure size 1080x576 with 1 Axes>"
      ]
     },
     "metadata": {
      "needs_background": "light"
     },
     "output_type": "display_data"
    }
   ],
   "source": [
    "plt.figure(figsize = (15,8))\n",
    "plt.plot(ind_confirmed, color = 'c', marker = 'o', label = 'Number of Cases')\n",
    "plt.plot(ind_recovered, color = 'g', marker = 'o', label = 'Recovered')\n",
    "plt.plot(ind_deaths, color = 'r', marker = 'o', label = 'Deaths')\n",
    "plt.title('Covid-19 Cases in India')\n",
    "plt.xlabel('Days')\n",
    "plt.ylabel('Number of People')\n",
    "plt.legend()\n",
    "plt.show()"
   ]
  },
  {
   "cell_type": "markdown",
   "metadata": {},
   "source": [
    "# Forecasting using RNN"
   ]
  },
  {
   "cell_type": "markdown",
   "metadata": {},
   "source": [
    "The reason I went with RNN for Time Series prediction instead of ARIMA is because ARIMA models are basically linear models, so they can only work if the relation is linear whereas LSTMs are better at identifying complex pattern logics from data by \"remembering what's useful and discarding what's not\""
   ]
  },
  {
   "cell_type": "code",
   "execution_count": 44,
   "metadata": {},
   "outputs": [],
   "source": [
    "dataset_rnn = dataset.groupby(['ObservationDate']).agg({'Confirmed':'sum','Recovered':'sum','Deaths':'sum'})"
   ]
  },
  {
   "cell_type": "code",
   "execution_count": 45,
   "metadata": {},
   "outputs": [
    {
     "data": {
      "text/html": [
       "<div>\n",
       "<style scoped>\n",
       "    .dataframe tbody tr th:only-of-type {\n",
       "        vertical-align: middle;\n",
       "    }\n",
       "\n",
       "    .dataframe tbody tr th {\n",
       "        vertical-align: top;\n",
       "    }\n",
       "\n",
       "    .dataframe thead th {\n",
       "        text-align: right;\n",
       "    }\n",
       "</style>\n",
       "<table border=\"1\" class=\"dataframe\">\n",
       "  <thead>\n",
       "    <tr style=\"text-align: right;\">\n",
       "      <th></th>\n",
       "      <th>Confirmed</th>\n",
       "      <th>Recovered</th>\n",
       "      <th>Deaths</th>\n",
       "    </tr>\n",
       "    <tr>\n",
       "      <th>ObservationDate</th>\n",
       "      <th></th>\n",
       "      <th></th>\n",
       "      <th></th>\n",
       "    </tr>\n",
       "  </thead>\n",
       "  <tbody>\n",
       "    <tr>\n",
       "      <th>2020-01-22</th>\n",
       "      <td>555.0</td>\n",
       "      <td>28.0</td>\n",
       "      <td>17.0</td>\n",
       "    </tr>\n",
       "    <tr>\n",
       "      <th>2020-01-23</th>\n",
       "      <td>653.0</td>\n",
       "      <td>30.0</td>\n",
       "      <td>18.0</td>\n",
       "    </tr>\n",
       "    <tr>\n",
       "      <th>2020-01-24</th>\n",
       "      <td>941.0</td>\n",
       "      <td>36.0</td>\n",
       "      <td>26.0</td>\n",
       "    </tr>\n",
       "    <tr>\n",
       "      <th>2020-01-25</th>\n",
       "      <td>1438.0</td>\n",
       "      <td>39.0</td>\n",
       "      <td>42.0</td>\n",
       "    </tr>\n",
       "    <tr>\n",
       "      <th>2020-01-26</th>\n",
       "      <td>2118.0</td>\n",
       "      <td>52.0</td>\n",
       "      <td>56.0</td>\n",
       "    </tr>\n",
       "    <tr>\n",
       "      <th>2020-01-27</th>\n",
       "      <td>2927.0</td>\n",
       "      <td>61.0</td>\n",
       "      <td>82.0</td>\n",
       "    </tr>\n",
       "    <tr>\n",
       "      <th>2020-01-28</th>\n",
       "      <td>5578.0</td>\n",
       "      <td>107.0</td>\n",
       "      <td>131.0</td>\n",
       "    </tr>\n",
       "    <tr>\n",
       "      <th>2020-01-29</th>\n",
       "      <td>6165.0</td>\n",
       "      <td>126.0</td>\n",
       "      <td>133.0</td>\n",
       "    </tr>\n",
       "    <tr>\n",
       "      <th>2020-01-30</th>\n",
       "      <td>8235.0</td>\n",
       "      <td>143.0</td>\n",
       "      <td>171.0</td>\n",
       "    </tr>\n",
       "    <tr>\n",
       "      <th>2020-01-31</th>\n",
       "      <td>9925.0</td>\n",
       "      <td>222.0</td>\n",
       "      <td>213.0</td>\n",
       "    </tr>\n",
       "    <tr>\n",
       "      <th>2020-02-01</th>\n",
       "      <td>12038.0</td>\n",
       "      <td>284.0</td>\n",
       "      <td>259.0</td>\n",
       "    </tr>\n",
       "    <tr>\n",
       "      <th>2020-02-02</th>\n",
       "      <td>16787.0</td>\n",
       "      <td>472.0</td>\n",
       "      <td>362.0</td>\n",
       "    </tr>\n",
       "    <tr>\n",
       "      <th>2020-02-03</th>\n",
       "      <td>19881.0</td>\n",
       "      <td>623.0</td>\n",
       "      <td>426.0</td>\n",
       "    </tr>\n",
       "    <tr>\n",
       "      <th>2020-02-04</th>\n",
       "      <td>23892.0</td>\n",
       "      <td>852.0</td>\n",
       "      <td>492.0</td>\n",
       "    </tr>\n",
       "    <tr>\n",
       "      <th>2020-02-05</th>\n",
       "      <td>27636.0</td>\n",
       "      <td>1124.0</td>\n",
       "      <td>564.0</td>\n",
       "    </tr>\n",
       "    <tr>\n",
       "      <th>2020-02-06</th>\n",
       "      <td>30818.0</td>\n",
       "      <td>1487.0</td>\n",
       "      <td>634.0</td>\n",
       "    </tr>\n",
       "    <tr>\n",
       "      <th>2020-02-07</th>\n",
       "      <td>34392.0</td>\n",
       "      <td>2011.0</td>\n",
       "      <td>719.0</td>\n",
       "    </tr>\n",
       "    <tr>\n",
       "      <th>2020-02-08</th>\n",
       "      <td>37121.0</td>\n",
       "      <td>2616.0</td>\n",
       "      <td>806.0</td>\n",
       "    </tr>\n",
       "    <tr>\n",
       "      <th>2020-02-09</th>\n",
       "      <td>40151.0</td>\n",
       "      <td>3244.0</td>\n",
       "      <td>906.0</td>\n",
       "    </tr>\n",
       "    <tr>\n",
       "      <th>2020-02-10</th>\n",
       "      <td>42763.0</td>\n",
       "      <td>3946.0</td>\n",
       "      <td>1013.0</td>\n",
       "    </tr>\n",
       "    <tr>\n",
       "      <th>2020-02-11</th>\n",
       "      <td>44803.0</td>\n",
       "      <td>4683.0</td>\n",
       "      <td>1113.0</td>\n",
       "    </tr>\n",
       "    <tr>\n",
       "      <th>2020-02-12</th>\n",
       "      <td>45222.0</td>\n",
       "      <td>5150.0</td>\n",
       "      <td>1118.0</td>\n",
       "    </tr>\n",
       "    <tr>\n",
       "      <th>2020-02-13</th>\n",
       "      <td>60370.0</td>\n",
       "      <td>6295.0</td>\n",
       "      <td>1371.0</td>\n",
       "    </tr>\n",
       "    <tr>\n",
       "      <th>2020-02-14</th>\n",
       "      <td>66887.0</td>\n",
       "      <td>8058.0</td>\n",
       "      <td>1523.0</td>\n",
       "    </tr>\n",
       "    <tr>\n",
       "      <th>2020-02-15</th>\n",
       "      <td>69032.0</td>\n",
       "      <td>9395.0</td>\n",
       "      <td>1666.0</td>\n",
       "    </tr>\n",
       "    <tr>\n",
       "      <th>2020-02-16</th>\n",
       "      <td>71226.0</td>\n",
       "      <td>10865.0</td>\n",
       "      <td>1770.0</td>\n",
       "    </tr>\n",
       "    <tr>\n",
       "      <th>2020-02-17</th>\n",
       "      <td>73260.0</td>\n",
       "      <td>12583.0</td>\n",
       "      <td>1868.0</td>\n",
       "    </tr>\n",
       "    <tr>\n",
       "      <th>2020-02-18</th>\n",
       "      <td>75138.0</td>\n",
       "      <td>14352.0</td>\n",
       "      <td>2007.0</td>\n",
       "    </tr>\n",
       "    <tr>\n",
       "      <th>2020-02-19</th>\n",
       "      <td>75641.0</td>\n",
       "      <td>16121.0</td>\n",
       "      <td>2122.0</td>\n",
       "    </tr>\n",
       "    <tr>\n",
       "      <th>2020-02-20</th>\n",
       "      <td>76199.0</td>\n",
       "      <td>18177.0</td>\n",
       "      <td>2247.0</td>\n",
       "    </tr>\n",
       "    <tr>\n",
       "      <th>2020-02-21</th>\n",
       "      <td>76843.0</td>\n",
       "      <td>18890.0</td>\n",
       "      <td>2251.0</td>\n",
       "    </tr>\n",
       "    <tr>\n",
       "      <th>2020-02-22</th>\n",
       "      <td>78599.0</td>\n",
       "      <td>22886.0</td>\n",
       "      <td>2458.0</td>\n",
       "    </tr>\n",
       "    <tr>\n",
       "      <th>2020-02-23</th>\n",
       "      <td>78985.0</td>\n",
       "      <td>23394.0</td>\n",
       "      <td>2469.0</td>\n",
       "    </tr>\n",
       "    <tr>\n",
       "      <th>2020-02-24</th>\n",
       "      <td>79570.0</td>\n",
       "      <td>25227.0</td>\n",
       "      <td>2629.0</td>\n",
       "    </tr>\n",
       "    <tr>\n",
       "      <th>2020-02-25</th>\n",
       "      <td>80415.0</td>\n",
       "      <td>27905.0</td>\n",
       "      <td>2708.0</td>\n",
       "    </tr>\n",
       "    <tr>\n",
       "      <th>2020-02-26</th>\n",
       "      <td>81397.0</td>\n",
       "      <td>30384.0</td>\n",
       "      <td>2770.0</td>\n",
       "    </tr>\n",
       "    <tr>\n",
       "      <th>2020-02-27</th>\n",
       "      <td>82756.0</td>\n",
       "      <td>33277.0</td>\n",
       "      <td>2814.0</td>\n",
       "    </tr>\n",
       "    <tr>\n",
       "      <th>2020-02-28</th>\n",
       "      <td>84124.0</td>\n",
       "      <td>36711.0</td>\n",
       "      <td>2872.0</td>\n",
       "    </tr>\n",
       "    <tr>\n",
       "      <th>2020-02-29</th>\n",
       "      <td>86013.0</td>\n",
       "      <td>39782.0</td>\n",
       "      <td>2941.0</td>\n",
       "    </tr>\n",
       "    <tr>\n",
       "      <th>2020-03-01</th>\n",
       "      <td>88371.0</td>\n",
       "      <td>42716.0</td>\n",
       "      <td>2996.0</td>\n",
       "    </tr>\n",
       "    <tr>\n",
       "      <th>2020-03-02</th>\n",
       "      <td>90309.0</td>\n",
       "      <td>45602.0</td>\n",
       "      <td>3085.0</td>\n",
       "    </tr>\n",
       "    <tr>\n",
       "      <th>2020-03-03</th>\n",
       "      <td>92844.0</td>\n",
       "      <td>48229.0</td>\n",
       "      <td>3160.0</td>\n",
       "    </tr>\n",
       "    <tr>\n",
       "      <th>2020-03-04</th>\n",
       "      <td>95124.0</td>\n",
       "      <td>51171.0</td>\n",
       "      <td>3254.0</td>\n",
       "    </tr>\n",
       "    <tr>\n",
       "      <th>2020-03-05</th>\n",
       "      <td>97886.0</td>\n",
       "      <td>53797.0</td>\n",
       "      <td>3348.0</td>\n",
       "    </tr>\n",
       "    <tr>\n",
       "      <th>2020-03-06</th>\n",
       "      <td>101800.0</td>\n",
       "      <td>55866.0</td>\n",
       "      <td>3460.0</td>\n",
       "    </tr>\n",
       "    <tr>\n",
       "      <th>2020-03-07</th>\n",
       "      <td>105836.0</td>\n",
       "      <td>58359.0</td>\n",
       "      <td>3558.0</td>\n",
       "    </tr>\n",
       "    <tr>\n",
       "      <th>2020-03-08</th>\n",
       "      <td>109835.0</td>\n",
       "      <td>60695.0</td>\n",
       "      <td>3803.0</td>\n",
       "    </tr>\n",
       "    <tr>\n",
       "      <th>2020-03-09</th>\n",
       "      <td>113582.0</td>\n",
       "      <td>62512.0</td>\n",
       "      <td>3996.0</td>\n",
       "    </tr>\n",
       "    <tr>\n",
       "      <th>2020-03-10</th>\n",
       "      <td>118582.0</td>\n",
       "      <td>64404.0</td>\n",
       "      <td>4262.0</td>\n",
       "    </tr>\n",
       "    <tr>\n",
       "      <th>2020-03-11</th>\n",
       "      <td>125865.0</td>\n",
       "      <td>67003.0</td>\n",
       "      <td>4615.0</td>\n",
       "    </tr>\n",
       "    <tr>\n",
       "      <th>2020-03-12</th>\n",
       "      <td>128343.0</td>\n",
       "      <td>68324.0</td>\n",
       "      <td>4720.0</td>\n",
       "    </tr>\n",
       "    <tr>\n",
       "      <th>2020-03-13</th>\n",
       "      <td>145193.0</td>\n",
       "      <td>70251.0</td>\n",
       "      <td>5404.0</td>\n",
       "    </tr>\n",
       "    <tr>\n",
       "      <th>2020-03-14</th>\n",
       "      <td>156099.0</td>\n",
       "      <td>72624.0</td>\n",
       "      <td>5819.0</td>\n",
       "    </tr>\n",
       "    <tr>\n",
       "      <th>2020-03-15</th>\n",
       "      <td>167447.0</td>\n",
       "      <td>76034.0</td>\n",
       "      <td>6440.0</td>\n",
       "    </tr>\n",
       "    <tr>\n",
       "      <th>2020-03-16</th>\n",
       "      <td>181546.0</td>\n",
       "      <td>78088.0</td>\n",
       "      <td>7126.0</td>\n",
       "    </tr>\n",
       "    <tr>\n",
       "      <th>2020-03-17</th>\n",
       "      <td>197168.0</td>\n",
       "      <td>80840.0</td>\n",
       "      <td>7905.0</td>\n",
       "    </tr>\n",
       "    <tr>\n",
       "      <th>2020-03-18</th>\n",
       "      <td>214915.0</td>\n",
       "      <td>83313.0</td>\n",
       "      <td>8733.0</td>\n",
       "    </tr>\n",
       "    <tr>\n",
       "      <th>2020-03-19</th>\n",
       "      <td>242713.0</td>\n",
       "      <td>84962.0</td>\n",
       "      <td>9867.0</td>\n",
       "    </tr>\n",
       "    <tr>\n",
       "      <th>2020-03-20</th>\n",
       "      <td>272167.0</td>\n",
       "      <td>87403.0</td>\n",
       "      <td>11299.0</td>\n",
       "    </tr>\n",
       "    <tr>\n",
       "      <th>2020-03-21</th>\n",
       "      <td>304549.0</td>\n",
       "      <td>91676.0</td>\n",
       "      <td>12973.0</td>\n",
       "    </tr>\n",
       "    <tr>\n",
       "      <th>2020-03-22</th>\n",
       "      <td>337122.0</td>\n",
       "      <td>97243.0</td>\n",
       "      <td>14623.0</td>\n",
       "    </tr>\n",
       "    <tr>\n",
       "      <th>2020-03-23</th>\n",
       "      <td>378287.0</td>\n",
       "      <td>100958.0</td>\n",
       "      <td>16497.0</td>\n",
       "    </tr>\n",
       "    <tr>\n",
       "      <th>2020-03-24</th>\n",
       "      <td>417966.0</td>\n",
       "      <td>107705.0</td>\n",
       "      <td>18615.0</td>\n",
       "    </tr>\n",
       "    <tr>\n",
       "      <th>2020-03-25</th>\n",
       "      <td>467594.0</td>\n",
       "      <td>113770.0</td>\n",
       "      <td>21181.0</td>\n",
       "    </tr>\n",
       "    <tr>\n",
       "      <th>2020-03-26</th>\n",
       "      <td>529591.0</td>\n",
       "      <td>122150.0</td>\n",
       "      <td>23970.0</td>\n",
       "    </tr>\n",
       "    <tr>\n",
       "      <th>2020-03-27</th>\n",
       "      <td>593291.0</td>\n",
       "      <td>130915.0</td>\n",
       "      <td>27198.0</td>\n",
       "    </tr>\n",
       "    <tr>\n",
       "      <th>2020-03-28</th>\n",
       "      <td>660706.0</td>\n",
       "      <td>139415.0</td>\n",
       "      <td>30652.0</td>\n",
       "    </tr>\n",
       "    <tr>\n",
       "      <th>2020-03-29</th>\n",
       "      <td>720140.0</td>\n",
       "      <td>149082.0</td>\n",
       "      <td>33925.0</td>\n",
       "    </tr>\n",
       "    <tr>\n",
       "      <th>2020-03-30</th>\n",
       "      <td>782395.0</td>\n",
       "      <td>164566.0</td>\n",
       "      <td>37582.0</td>\n",
       "    </tr>\n",
       "    <tr>\n",
       "      <th>2020-03-31</th>\n",
       "      <td>857487.0</td>\n",
       "      <td>178034.0</td>\n",
       "      <td>42107.0</td>\n",
       "    </tr>\n",
       "    <tr>\n",
       "      <th>2020-04-01</th>\n",
       "      <td>932605.0</td>\n",
       "      <td>193177.0</td>\n",
       "      <td>46809.0</td>\n",
       "    </tr>\n",
       "    <tr>\n",
       "      <th>2020-04-02</th>\n",
       "      <td>1013157.0</td>\n",
       "      <td>210263.0</td>\n",
       "      <td>52983.0</td>\n",
       "    </tr>\n",
       "    <tr>\n",
       "      <th>2020-04-03</th>\n",
       "      <td>1095917.0</td>\n",
       "      <td>225796.0</td>\n",
       "      <td>58787.0</td>\n",
       "    </tr>\n",
       "    <tr>\n",
       "      <th>2020-04-04</th>\n",
       "      <td>1197405.0</td>\n",
       "      <td>246152.0</td>\n",
       "      <td>64606.0</td>\n",
       "    </tr>\n",
       "    <tr>\n",
       "      <th>2020-04-05</th>\n",
       "      <td>1272115.0</td>\n",
       "      <td>260012.0</td>\n",
       "      <td>69374.0</td>\n",
       "    </tr>\n",
       "    <tr>\n",
       "      <th>2020-04-06</th>\n",
       "      <td>1345101.0</td>\n",
       "      <td>276515.0</td>\n",
       "      <td>74565.0</td>\n",
       "    </tr>\n",
       "    <tr>\n",
       "      <th>2020-04-07</th>\n",
       "      <td>1426096.0</td>\n",
       "      <td>300054.0</td>\n",
       "      <td>81865.0</td>\n",
       "    </tr>\n",
       "  </tbody>\n",
       "</table>\n",
       "</div>"
      ],
      "text/plain": [
       "                 Confirmed  Recovered   Deaths\n",
       "ObservationDate                               \n",
       "2020-01-22           555.0       28.0     17.0\n",
       "2020-01-23           653.0       30.0     18.0\n",
       "2020-01-24           941.0       36.0     26.0\n",
       "2020-01-25          1438.0       39.0     42.0\n",
       "2020-01-26          2118.0       52.0     56.0\n",
       "2020-01-27          2927.0       61.0     82.0\n",
       "2020-01-28          5578.0      107.0    131.0\n",
       "2020-01-29          6165.0      126.0    133.0\n",
       "2020-01-30          8235.0      143.0    171.0\n",
       "2020-01-31          9925.0      222.0    213.0\n",
       "2020-02-01         12038.0      284.0    259.0\n",
       "2020-02-02         16787.0      472.0    362.0\n",
       "2020-02-03         19881.0      623.0    426.0\n",
       "2020-02-04         23892.0      852.0    492.0\n",
       "2020-02-05         27636.0     1124.0    564.0\n",
       "2020-02-06         30818.0     1487.0    634.0\n",
       "2020-02-07         34392.0     2011.0    719.0\n",
       "2020-02-08         37121.0     2616.0    806.0\n",
       "2020-02-09         40151.0     3244.0    906.0\n",
       "2020-02-10         42763.0     3946.0   1013.0\n",
       "2020-02-11         44803.0     4683.0   1113.0\n",
       "2020-02-12         45222.0     5150.0   1118.0\n",
       "2020-02-13         60370.0     6295.0   1371.0\n",
       "2020-02-14         66887.0     8058.0   1523.0\n",
       "2020-02-15         69032.0     9395.0   1666.0\n",
       "2020-02-16         71226.0    10865.0   1770.0\n",
       "2020-02-17         73260.0    12583.0   1868.0\n",
       "2020-02-18         75138.0    14352.0   2007.0\n",
       "2020-02-19         75641.0    16121.0   2122.0\n",
       "2020-02-20         76199.0    18177.0   2247.0\n",
       "2020-02-21         76843.0    18890.0   2251.0\n",
       "2020-02-22         78599.0    22886.0   2458.0\n",
       "2020-02-23         78985.0    23394.0   2469.0\n",
       "2020-02-24         79570.0    25227.0   2629.0\n",
       "2020-02-25         80415.0    27905.0   2708.0\n",
       "2020-02-26         81397.0    30384.0   2770.0\n",
       "2020-02-27         82756.0    33277.0   2814.0\n",
       "2020-02-28         84124.0    36711.0   2872.0\n",
       "2020-02-29         86013.0    39782.0   2941.0\n",
       "2020-03-01         88371.0    42716.0   2996.0\n",
       "2020-03-02         90309.0    45602.0   3085.0\n",
       "2020-03-03         92844.0    48229.0   3160.0\n",
       "2020-03-04         95124.0    51171.0   3254.0\n",
       "2020-03-05         97886.0    53797.0   3348.0\n",
       "2020-03-06        101800.0    55866.0   3460.0\n",
       "2020-03-07        105836.0    58359.0   3558.0\n",
       "2020-03-08        109835.0    60695.0   3803.0\n",
       "2020-03-09        113582.0    62512.0   3996.0\n",
       "2020-03-10        118582.0    64404.0   4262.0\n",
       "2020-03-11        125865.0    67003.0   4615.0\n",
       "2020-03-12        128343.0    68324.0   4720.0\n",
       "2020-03-13        145193.0    70251.0   5404.0\n",
       "2020-03-14        156099.0    72624.0   5819.0\n",
       "2020-03-15        167447.0    76034.0   6440.0\n",
       "2020-03-16        181546.0    78088.0   7126.0\n",
       "2020-03-17        197168.0    80840.0   7905.0\n",
       "2020-03-18        214915.0    83313.0   8733.0\n",
       "2020-03-19        242713.0    84962.0   9867.0\n",
       "2020-03-20        272167.0    87403.0  11299.0\n",
       "2020-03-21        304549.0    91676.0  12973.0\n",
       "2020-03-22        337122.0    97243.0  14623.0\n",
       "2020-03-23        378287.0   100958.0  16497.0\n",
       "2020-03-24        417966.0   107705.0  18615.0\n",
       "2020-03-25        467594.0   113770.0  21181.0\n",
       "2020-03-26        529591.0   122150.0  23970.0\n",
       "2020-03-27        593291.0   130915.0  27198.0\n",
       "2020-03-28        660706.0   139415.0  30652.0\n",
       "2020-03-29        720140.0   149082.0  33925.0\n",
       "2020-03-30        782395.0   164566.0  37582.0\n",
       "2020-03-31        857487.0   178034.0  42107.0\n",
       "2020-04-01        932605.0   193177.0  46809.0\n",
       "2020-04-02       1013157.0   210263.0  52983.0\n",
       "2020-04-03       1095917.0   225796.0  58787.0\n",
       "2020-04-04       1197405.0   246152.0  64606.0\n",
       "2020-04-05       1272115.0   260012.0  69374.0\n",
       "2020-04-06       1345101.0   276515.0  74565.0\n",
       "2020-04-07       1426096.0   300054.0  81865.0"
      ]
     },
     "execution_count": 45,
     "metadata": {},
     "output_type": "execute_result"
    }
   ],
   "source": [
    "dataset_rnn"
   ]
  },
  {
   "cell_type": "code",
   "execution_count": 47,
   "metadata": {},
   "outputs": [
    {
     "data": {
      "text/plain": [
       "(77, 3)"
      ]
     },
     "execution_count": 47,
     "metadata": {},
     "output_type": "execute_result"
    }
   ],
   "source": [
    "dataset_rnn.shape"
   ]
  },
  {
   "cell_type": "code",
   "execution_count": 85,
   "metadata": {},
   "outputs": [
    {
     "name": "stdout",
     "output_type": "stream",
     "text": [
      "Epoch 1/50\n",
      "15/15 [==============================] - 1s 97ms/step - loss: 0.0111\n",
      "Epoch 2/50\n",
      "15/15 [==============================] - 0s 27ms/step - loss: 0.0030\n",
      "Epoch 3/50\n",
      "15/15 [==============================] - 0s 27ms/step - loss: 0.0030\n",
      "Epoch 4/50\n",
      "15/15 [==============================] - 0s 27ms/step - loss: 0.0019\n",
      "Epoch 5/50\n",
      "15/15 [==============================] - 0s 27ms/step - loss: 0.0020\n",
      "Epoch 6/50\n",
      "15/15 [==============================] - 0s 27ms/step - loss: 0.0021\n",
      "Epoch 7/50\n",
      "15/15 [==============================] - 0s 28ms/step - loss: 0.0018\n",
      "Epoch 8/50\n",
      "15/15 [==============================] - 0s 28ms/step - loss: 0.0023\n",
      "Epoch 9/50\n",
      "15/15 [==============================] - 0s 27ms/step - loss: 0.0018\n",
      "Epoch 10/50\n",
      "15/15 [==============================] - 0s 27ms/step - loss: 0.0020\n",
      "Epoch 11/50\n",
      "15/15 [==============================] - 0s 27ms/step - loss: 0.0019\n",
      "Epoch 12/50\n",
      "15/15 [==============================] - 0s 27ms/step - loss: 0.0016\n",
      "Epoch 13/50\n",
      "15/15 [==============================] - 0s 29ms/step - loss: 0.0022\n",
      "Epoch 14/50\n",
      "15/15 [==============================] - 0s 28ms/step - loss: 0.0027\n",
      "Epoch 15/50\n",
      "15/15 [==============================] - 0s 28ms/step - loss: 0.0017\n",
      "Epoch 16/50\n",
      "15/15 [==============================] - 0s 27ms/step - loss: 0.0021\n",
      "Epoch 17/50\n",
      "15/15 [==============================] - 0s 28ms/step - loss: 0.0015\n",
      "Epoch 18/50\n",
      "15/15 [==============================] - 0s 27ms/step - loss: 0.0015\n",
      "Epoch 19/50\n",
      "15/15 [==============================] - 0s 28ms/step - loss: 0.0016\n",
      "Epoch 20/50\n",
      "15/15 [==============================] - 0s 27ms/step - loss: 0.0018\n",
      "Epoch 21/50\n",
      "15/15 [==============================] - 0s 28ms/step - loss: 0.0022\n",
      "Epoch 22/50\n",
      "15/15 [==============================] - 0s 28ms/step - loss: 0.0011\n",
      "Epoch 23/50\n",
      "15/15 [==============================] - 0s 28ms/step - loss: 0.0015\n",
      "Epoch 24/50\n",
      "15/15 [==============================] - 0s 27ms/step - loss: 0.0021\n",
      "Epoch 25/50\n",
      "15/15 [==============================] - 0s 27ms/step - loss: 0.0013\n",
      "Epoch 26/50\n",
      "15/15 [==============================] - 0s 28ms/step - loss: 0.0014\n",
      "Epoch 27/50\n",
      "15/15 [==============================] - 0s 28ms/step - loss: 0.0015\n",
      "Epoch 28/50\n",
      "15/15 [==============================] - 0s 29ms/step - loss: 0.0020\n",
      "Epoch 29/50\n",
      "15/15 [==============================] - 0s 27ms/step - loss: 0.0018\n",
      "Epoch 30/50\n",
      "15/15 [==============================] - 0s 28ms/step - loss: 0.0012\n",
      "Epoch 31/50\n",
      "15/15 [==============================] - 0s 28ms/step - loss: 0.0014\n",
      "Epoch 32/50\n",
      "15/15 [==============================] - 0s 27ms/step - loss: 6.8969e-04\n",
      "Epoch 33/50\n",
      "15/15 [==============================] - 0s 27ms/step - loss: 0.0011\n",
      "Epoch 34/50\n",
      "15/15 [==============================] - 0s 27ms/step - loss: 0.0012\n",
      "Epoch 35/50\n",
      "15/15 [==============================] - 0s 27ms/step - loss: 0.0010\n",
      "Epoch 36/50\n",
      "15/15 [==============================] - 0s 29ms/step - loss: 8.2932e-04\n",
      "Epoch 37/50\n",
      "15/15 [==============================] - 0s 27ms/step - loss: 0.0012\n",
      "Epoch 38/50\n",
      "15/15 [==============================] - 0s 28ms/step - loss: 0.0013\n",
      "Epoch 39/50\n",
      "15/15 [==============================] - 0s 28ms/step - loss: 0.0017\n",
      "Epoch 40/50\n",
      "15/15 [==============================] - 0s 27ms/step - loss: 0.0011\n",
      "Epoch 41/50\n",
      "15/15 [==============================] - 0s 28ms/step - loss: 7.7325e-04\n",
      "Epoch 42/50\n",
      "15/15 [==============================] - 0s 28ms/step - loss: 7.2623e-04\n",
      "Epoch 43/50\n",
      "15/15 [==============================] - 0s 27ms/step - loss: 8.9919e-04\n",
      "Epoch 44/50\n",
      "15/15 [==============================] - 0s 27ms/step - loss: 2.4305e-04\n",
      "Epoch 45/50\n",
      "15/15 [==============================] - 0s 27ms/step - loss: 5.9362e-04\n",
      "Epoch 46/50\n",
      "15/15 [==============================] - 0s 27ms/step - loss: 3.2319e-04\n",
      "Epoch 47/50\n",
      "15/15 [==============================] - 0s 29ms/step - loss: 3.0992e-04\n",
      "Epoch 48/50\n",
      "15/15 [==============================] - 0s 32ms/step - loss: 2.8251e-04\n",
      "Epoch 49/50\n",
      "15/15 [==============================] - 0s 32ms/step - loss: 2.7146e-04\n",
      "Epoch 50/50\n",
      "15/15 [==============================] - 0s 33ms/step - loss: 3.0125e-04\n"
     ]
    },
    {
     "data": {
      "text/plain": [
       "<keras.callbacks.callbacks.History at 0x2ab546b7788>"
      ]
     },
     "execution_count": 85,
     "metadata": {},
     "output_type": "execute_result"
    }
   ],
   "source": [
    "training_set = dataset_rnn.iloc[:,0:1].values\n",
    "\n",
    "#Date Preprocessing\n",
    "from sklearn.preprocessing import MinMaxScaler\n",
    "sc = MinMaxScaler(feature_range=(0,1))\n",
    "training_set_scaled = sc.fit_transform(training_set)\n",
    "\n",
    "#Creating data structure with 45 timesteps \n",
    "X_train = []\n",
    "y_train = []\n",
    "for i in range(45, 60):\n",
    "    X_train.append(training_set_scaled[i-45:i, 0])\n",
    "    y_train.append(training_set_scaled[i, 0])\n",
    "    \n",
    "X_train, y_train = np.array(X_train) , np.array(y_train)   \n",
    "\n",
    "#Reshaping\n",
    "X_train = np.reshape(X_train, (X_train.shape[0], X_train.shape[1], 1))\n",
    "\n",
    "#Initialize the RNN\n",
    "from keras.models import Sequential\n",
    "from keras.layers import Dense\n",
    "from keras.layers import LSTM\n",
    "from keras.layers import Dropout\n",
    "\n",
    "regressor = Sequential()\n",
    "\n",
    "#Add first LSTM layer and Dropout regularisation\n",
    "regressor.add(LSTM(units =50, return_sequences = True, input_shape = (X_train.shape[1], 1)))\n",
    "regressor.add(Dropout(0.2))\n",
    "\n",
    "#Adding second layer\n",
    "regressor.add(LSTM(units =50, return_sequences = True))\n",
    "regressor.add(Dropout(0.2))\n",
    "\n",
    "#Adding third layer\n",
    "regressor.add(LSTM(units =50, return_sequences = True))\n",
    "regressor.add(Dropout(0.2))\n",
    "\n",
    "#Adding fourth layer\n",
    "regressor.add(LSTM(units =50))\n",
    "regressor.add(Dropout(0.2))\n",
    "\n",
    "#Output layer\n",
    "regressor.add(Dense(units = 1))\n",
    "\n",
    "regressor.compile(optimizer = 'adam', loss = 'mse')\n",
    "\n",
    "#Training the model\n",
    "#Taking a small batch size because the number of data points to train on is limited\n",
    "regressor.fit(X_train, y_train, epochs = 50, batch_size = 5)"
   ]
  },
  {
   "cell_type": "code",
   "execution_count": 86,
   "metadata": {},
   "outputs": [],
   "source": [
    "#Prediction and visualization\n",
    "real_confirmed_cases = dataset_rnn.iloc[57:77,0:1].values\n",
    "\n",
    "X_test = []\n",
    "\n",
    "for i in range(57,77):\n",
    "    X_test.append(training_set_scaled[i-45:i, 0])\n",
    "X_test = np.array(X_test)\n",
    "X_test = np.reshape(X_test, (X_test.shape[0], X_test.shape[1], 1))\n",
    "predicted_confirmed_cases = regressor.predict(X_test)\n",
    "predicted_confirmed_cases = sc.inverse_transform(predicted_confirmed_cases)"
   ]
  },
  {
   "cell_type": "code",
   "execution_count": 94,
   "metadata": {},
   "outputs": [
    {
     "data": {
      "image/png": "[encoded data removed]",
      "text/plain": [
       "<Figure size 864x576 with 1 Axes>"
      ]
     },
     "metadata": {
      "needs_background": "light"
     },
     "output_type": "display_data"
    }
   ],
   "source": [
    "plt.figure(figsize = (12,8))\n",
    "plt.plot(real_confirmed_cases, color='c',marker = 'o', label = 'Real Confirmed Cases')\n",
    "plt.plot(predicted_confirmed_cases, color='g',marker = 'o', label = 'Predicted Number of Cases')\n",
    "plt.title('Coronavirus Forecasting Trend in Cases (From 18th March to 7th April)')\n",
    "plt.xlabel('Days')\n",
    "plt.ylabel('Number of Cases')\n",
    "plt.legend()\n",
    "plt.show()"
   ]
  },
  {
   "cell_type": "markdown",
   "metadata": {},
   "source": [
    "### <font color = 'green'>The RNN model is forecasting an exponential trend in the number of covid-19 cases which is quite simliar to the Real number of cases. So the model is performing pretty well considering the limited amount of days to train the model on(3 months of data). </font>"
   ]
  },
  {
   "cell_type": "markdown",
   "metadata": {},
   "source": [
    "# Conclusion:\n",
    "\n",
    "Yesterday US suffered 2000 deaths which is the highest number of deaths for any country on a single day. Even though Italy has one of the best healthcare system in the world it has still been pushed to it's limit with over 100k confirmed cases and almost 2000 deaths every week.The number of cases have been growing at an exponential rate but few countries have seen a decline in this trend by following a strict lockdown. The only way people can combat this is by taking this pandemic seriously and following all the safety precautions such as maintaining social distancing and staying quaratined.\n",
    "\n",
    "I have just begun my journey to become a Data Scientist and have still got a lot to learn. Will appreciate any kind of feedback or criticism. There is still a lot of things I could have tried with this dataset. Will surely come back and try to improve on this work.\n",
    "\n",
    "Thank You"
   ]
  },
  {
   "cell_type": "markdown",
   "metadata": {},
   "source": [
    "## Stay Healthy Stay Safe guys"
   ]
  },
  {
   "cell_type": "code",
   "execution_count": null,
   "metadata": {},
   "outputs": [],
   "source": []
  }
 ],
 "metadata": {
  "kernelspec": {
   "display_name": "Python 3",
   "language": "python",
   "name": "python3"
  },
  "language_info": {
   "codemirror_mode": {
    "name": "ipython",
    "version": 3
   },
   "file_extension": ".py",
   "mimetype": "text/x-python",
   "name": "python",
   "nbconvert_exporter": "python",
   "pygments_lexer": "ipython3",
   "version": "3.7.7"
  }
 },
 "nbformat": 4,
 "nbformat_minor": 4
}
